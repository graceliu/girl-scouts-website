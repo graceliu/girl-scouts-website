{
  "nbformat": 4,
  "nbformat_minor": 0,
  "metadata": {
    "colab": {
      "name": "girl_scouts_coding_for_good_website_tutorial.ipynb",
      "provenance": [],
      "collapsed_sections": [],
      "authorship_tag": "ABX9TyMHng13PlFluguIBY9MHE7K",
      "include_colab_link": true
    },
    "kernelspec": {
      "display_name": "Python 3",
      "name": "python3"
    },
    "language_info": {
      "name": "python"
    }
  },
  "cells": [
    {
      "cell_type": "markdown",
      "metadata": {
        "id": "view-in-github",
        "colab_type": "text"
      },
      "source": [
        "<a href=\"https://colab.research.google.com/github/graceliu/girl-scouts-website/blob/master/ipynb/girl_scouts_coding_for_good_website_tutorial.ipynb\" target=\"_parent\"><img src=\"https://colab.research.google.com/assets/colab-badge.svg\" alt=\"Open In Colab\"/></a>"
      ]
    },
    {
      "cell_type": "markdown",
      "metadata": {
        "id": "vAQC441NIaJ7"
      },
      "source": [
        "# Girl Scouts Coding for Good Website Tutorial\n",
        "\n",
        "## Introduction\n",
        "\n",
        "Welcome to Girl Scouts Coding for Good Website Tutorial!\n",
        "\n",
        "We will build a photo gallery website to showcase animals at an animal shelter.\n",
        "\n",
        "## Create Your Own Copy\n",
        "\n",
        "Before continuing, be sure to use your own copy of this tutorial.\n",
        "\n",
        "* On the top navigation bar, select File->Save a Copy in Drive.\n",
        "\n",
        "## Optional: Update your Editor View \n",
        "\n",
        "The following steps are optional: \n",
        "\n",
        "* Go to Tools->Settings.\n",
        "* In \"Site\" tab, select \"Dark\" theme - this will set your background to black\n",
        "* In \"Miscellaneous\" tab, check \"corgi mode\" and \"kitty mode\" - give it a try and you will see what happens...\n",
        "\n",
        "\n",
        "## How to Use Jupyter Notebook and Google Colab\n",
        "\n",
        "We will do our tutorial in this .ipynb file which is a Jupyter Notebook file, running in this app which is Google Colab.  Jupyter Notebook and Google Colab are used by data scientists and machine learning scientists for their research.  We will use them today to write and run python code.\n",
        "\n",
        "What's so special about this setup, is that you can interleave code blocks with text, and you can run the code and see the output as you go along.\n",
        "\n",
        "Let's try that now.  \n",
        "\n",
        "* Finish the sentence in the code block below.\n",
        "* Run the code block by clicking the play button icon to the left of the code block.\n",
        "* See how the output shows up right below the code block.\n",
        "* Update sentence however you like.\n",
        "* Run the code block again by clicking the play button again.\n",
        "\n",
        "Notice output reflects the latest code updates.\n"
      ]
    },
    {
      "cell_type": "code",
      "metadata": {
        "id": "gTd12jt2dCfX"
      },
      "source": [
        "print(\"Hello Girl Scouts! My name is .\")"
      ],
      "execution_count": null,
      "outputs": []
    },
    {
      "cell_type": "markdown",
      "metadata": {
        "id": "k_lwHUrAacZr"
      },
      "source": [
        "## Mount Google Drive\n",
        "\n",
        "We want to mount our google drive to colab so this notebook can access it.  In the next step, we're going to copy some website code to our Google Drive.  Before doing that, we need to mount our google drive so this notebook has permissions to copy files to your Google Drive.\n",
        "\n",
        "* Run the next code block\n",
        "\n",
        "When you see the \"Go to this URL...\" output:\n",
        "\n",
        "*   click on the link provided\n",
        "\n",
        "In the new page:\n",
        "*   choose your google account if asked to\n",
        "*   click on \"Sign In\"\n",
        "*   copy the code provided\n",
        "\n",
        "Back here:\n",
        "*   paste the code in the box under \"Enter your authorization code\" of the output\n",
        "*   hit the Enter key\n",
        "\n",
        "You should see the output updated to \"Mounted at /content/gdrive\"\n"
      ]
    },
    {
      "cell_type": "code",
      "metadata": {
        "id": "aTGRYdOJaHCH"
      },
      "source": [
        "from google.colab import drive\n",
        "drive.mount('/content/gdrive', force_remount=True)\n",
        "\n"
      ],
      "execution_count": null,
      "outputs": []
    },
    {
      "cell_type": "markdown",
      "metadata": {
        "id": "WQBFWKfwHqjL"
      },
      "source": [
        "## Clone Website Code from Github\n",
        "\n",
        "Next, we clone (copy) some ready-to-go girl scouts website code from Github.\n",
        "\n",
        "Github is where software developers from all over the world share code and contribute to open source.  I published some ready-to-go girl scouts website code to Github, so you can easily download from Github (https://github.com/graceliu/girl-scouts-website.git), and any other girl scouts group can choose to download it, too.\n",
        "\n",
        "* Run the next code block\n",
        "\n",
        "After you see \"Unpacking objects: 100%\" in the output:\n",
        "\n",
        "* Go to your Google Drive (https://drive.google.com/drive/u/0/my-drive)\n",
        "* Verify you can see the \"girl-scouts-website\" folder\n",
        "* Verify the \"static\" sub-folder has images of cats and dogs, and css files\n",
        "* Verify the \"templates\" sub-folder has a \"home.html\" file"
      ]
    },
    {
      "cell_type": "code",
      "metadata": {
        "id": "CbYleHvoH0aM"
      },
      "source": [
        "%cd /content/gdrive/MyDrive\n",
        "!git clone https://github.com/graceliu/girl-scouts-website.git"
      ],
      "execution_count": null,
      "outputs": []
    },
    {
      "cell_type": "markdown",
      "metadata": {
        "id": "p2p28LSDkf9d"
      },
      "source": [
        "## Run Girl Scouts Website - Version 1\n",
        "\n",
        "Let's get started with the first version of our Girl Scouts Website.\n",
        "\n",
        "* run the next code block\n",
        "\n",
        "In the output, you will see output of \"Running on ...\"\n",
        "\n",
        "* click on the 2nd link that ends in \".ngrok.io\"\n",
        "\n",
        "In the new page:\n",
        "\n",
        "* if you see a warning, click on \"Details\" button, and click on \"visit this unsafe site\"  (Google flags websites that end with .ngrok.io; we have simple html and css, and we won't even run our website for long, so we are aok)\n",
        "* you might need to refresh the page to see all contents correctly"
      ]
    },
    {
      "cell_type": "code",
      "metadata": {
        "id": "KJsiXzWuImSW"
      },
      "source": [
        "!pip install flask-ngrok\n",
        "from flask import Flask, render_template, request\n",
        "from flask_ngrok import run_with_ngrok\n",
        "app = Flask(__name__, \n",
        "            template_folder='/content/gdrive/MyDrive/girl-scouts-website/templates',\n",
        "            static_folder = '/content/gdrive/MyDrive/girl-scouts-website/static')\n",
        "run_with_ngrok(app) \n",
        "\n",
        "all_images = [\n",
        "  {\n",
        "    'filename': 'dog1.jpeg',\n",
        "    'type': 'dog',\n",
        "    'caption': \"Dogs do speak, but only to those who know how to listen.\"\n",
        "  }\n",
        "]  \n",
        "\n",
        "@app.route('/', methods=['GET', 'POST'])\n",
        "def home():\n",
        "    images = all_images\n",
        "    return render_template('home.html', images=images)\n",
        "\n",
        "app.run()\n"
      ],
      "execution_count": null,
      "outputs": []
    },
    {
      "cell_type": "markdown",
      "metadata": {
        "id": "X9INcPBMCq1n"
      },
      "source": [
        "## Explore Girl Scouts Website - Version 1\n",
        "\n",
        "Now that our website is running, let's go back to see how the code makes things work.\n",
        "\n",
        "* Go to your website and do right click inspect\n",
        "* Notice in the Elements tab, you can see the html and css for the page\n",
        "* Notice in the Network tab, you can see the client/server requests/responses\n",
        "\n",
        "Discussion points:\n",
        "\n",
        "For the following discussion points, let's look at the code we executed in the notebook, and the code in the files that we downloaded into the girl-scouts-website folder.\n",
        "\n",
        "* Where is the code that makes this page say \"Welcome!\"?  What code would I change to make it say instead \"Welcome Girl Scouts!\"?\n",
        "* Where is the code that makes the caption under the image this specific color?  What code would I change to give it a different color?\n",
        "* What is the code that makes this image and caption appear?  What code would I change to make more images and captions appear?\n",
        "* What is the code that returns this Web page when I go to the root path \"/\"?  What code would I change so that you would go to this page when I go to another path, like \"/animal-shelter\"?\n",
        "* What questions do you have about how things work?  I will answer them the best I can."
      ]
    },
    {
      "cell_type": "markdown",
      "metadata": {
        "id": "ZyzU8vu38LdW"
      },
      "source": [
        "## Stop Girl Scouts Website - Version 1\n",
        "\n",
        "Let's now stop the Girl Scouts Webite, version 1, so we can work on the next version.\n",
        "\n",
        "* Scroll to the top of the code block under \"Run Girl Scouts Website - Round 1\"\n",
        "* Click on the \"Stop\" icon on the left of the code block to stop it from executing \n",
        "* Refresh the page, and confirm the website is no longer running.\n",
        "* Close the tab your website was running in.\n"
      ]
    },
    {
      "cell_type": "markdown",
      "metadata": {
        "id": "nt6doGSbk_I2"
      },
      "source": [
        "## Update All Images Array\n",
        "\n",
        "Let us now update the all_images array so that we can see more than 1 animal on our website.\n",
        "\n",
        "The following code block updates the all_images array to have more elements, 1 for each image in the static sub-folder.\n",
        "\n",
        "Update the all_images array by doing the following: \n",
        "\n",
        "* Update the captions as you wish\n",
        "* Run the code block\n",
        "* Confirm in the output that the captions are what you updated.\n",
        "\n",
        "Notice the cat and dog image arrays are incorrect.  Hold that thought and we'll fix that later.\n",
        "\n"
      ]
    },
    {
      "cell_type": "code",
      "metadata": {
        "id": "JQLYWlr_DoBs"
      },
      "source": [
        "all_images = [\n",
        "  {\n",
        "    'filename': 'dog1.jpeg',\n",
        "    'type': 'dog',\n",
        "    'caption': \"Dogs do speak, but only to those who know how to listen.\"\n",
        "  },\n",
        "  {\n",
        "    'filename':'dog2.jpeg',\n",
        "    'type': 'dog',\n",
        "    'caption': \"The Lack Of Emotion In My Face Doesn't Mean I'm Unhappy.\"\n",
        "  },\n",
        "  {\n",
        "    'filename':'cat1.jpg',\n",
        "    'type': 'cat',\n",
        "    'caption': \"How Can Mirrors Be Real If Our Eyes Aren't Real.\"\n",
        "  },\n",
        "  {\n",
        "    'filename':'cat2.jpeg',\n",
        "    'type': 'cat',\n",
        "    'caption': \"Dogs come when they’re called. Cats take a message and get back to you later.\"\n",
        "  },\n",
        "  {\n",
        "    'filename': 'dog3.jpeg',\n",
        "    'type': 'dog',\n",
        "    'caption': \"When you want to play, dogs want to play too. When you want to play, cats want to be alone.\"\n",
        "  },\n",
        "  {\n",
        "    'filename':'cat3.jpeg',\n",
        "    'type': 'cat',\n",
        "    'caption': \"When The First Animal Went Extinct That Should've Been A Sign.\"\n",
        "  },\n",
        "  {\n",
        "    'filename':'dog4.jpeg',\n",
        "    'type': 'dog',\n",
        "    'caption': \"When Life Gives You Big Problems, Just Be Happy You Forgot All Your Little Problems.\"\n",
        "  },\n",
        "    {\n",
        "    'filename': 'dog5.jpeg',\n",
        "    'type': 'dog',\n",
        "    'caption': \"Instagram is not the answer.\"\n",
        "  },\n",
        "  {\n",
        "    'filename':'dog6.jpeg',\n",
        "    'type': 'dog',\n",
        "    'caption': \"I don’t understand people who don’t touch their pets. Their cat or dog is called a pet for a reason.\"\n",
        "  },\n",
        "  {\n",
        "    'filename':'cat4.jpg',\n",
        "    'type': 'cat',\n",
        "    'caption': \"Cats are smarter than dogs. You can’t get eight cats to pull a sled through snow.\"\n",
        "  }\n",
        "]\n",
        "\n",
        "cat_images = all_images\n",
        "dog_images = all_images\n",
        "\n",
        "def print_images(images_to_print):\n",
        "  for image in images_to_print:\n",
        "    print(image)\n",
        "\n",
        "print(\"all images:\")\n",
        "print_images(all_images)\n",
        "print(\"cat images\")\n",
        "print_images(cat_images)\n",
        "print(\"dog images\")\n",
        "print_images(dog_images)"
      ],
      "execution_count": null,
      "outputs": []
    },
    {
      "cell_type": "markdown",
      "metadata": {
        "id": "9xghbz3CQWwT"
      },
      "source": [
        "## Understand For Loops and Functions\n",
        "\n",
        "Now that we ran the code block above, let's review it more so we can understand it better.\n",
        "\n",
        "Notice in the code block above, we defined a function called print_images, and inside it is a for loop.\n",
        "\n",
        "### For Loops\n",
        "\n",
        "Let's understand for loops in python better by reviewing this video: \n",
        "\n",
        "https://www.youtube.com/watch?v=dHANJ4l6fwA&list=PLqXS1b2lRpYTI2GUM66gNqt690svYsdsD\n",
        "\n",
        "Discussion point: \n",
        "* What is the for loop in the print_images function doing? \n",
        "* What happens if images array is empty?\n",
        "\n",
        "### Functions\n",
        "\n",
        "Let's understand functions in python better by reviewing this video: \n",
        "\n",
        "https://www.youtube.com/watch?v=aftw0WX4oCc&list=PLqXS1b2lRpYTI2GUM66gNqt690svYsdsD\n",
        "\n",
        "Discussion points: \n",
        "* What does the print_images function do? \n",
        "* What parameter does print_images accept? \n",
        "* What is the output of print_images? (Hint: This is a trick question.)\n",
        "\n"
      ]
    },
    {
      "cell_type": "markdown",
      "metadata": {
        "id": "_jjxeXm2Wc07"
      },
      "source": [
        "## Update the Cats and Dogs Images Array using Functions and For Loops\n",
        "\n",
        "### Review an Example\n"
      ]
    },
    {
      "cell_type": "code",
      "metadata": {
        "id": "Zbm518NlOi5f"
      },
      "source": [
        "def get_images_with_caption_greater_than(num_chars):\n",
        "  new_images = []\n",
        "  for item in all_images:\n",
        "    if (len(item.get('caption')) > num_chars):\n",
        "      new_images.append(item)\n",
        "  return new_images\n",
        "\n",
        "filtered_images = get_images_with_caption_greater_than(60)\n",
        "print_images(filtered_images)"
      ],
      "execution_count": null,
      "outputs": []
    },
    {
      "cell_type": "markdown",
      "metadata": {
        "id": "aUO_CnIbdDNS"
      },
      "source": [
        "### Your Turn\n",
        "\n"
      ]
    },
    {
      "cell_type": "code",
      "metadata": {
        "id": "72phGihgHH5a"
      },
      "source": [
        "# define a function that takes in the animal type as parameter and returns list of images of that animal type\n",
        "# the function\n",
        "# * initializes a local array\n",
        "# * loops through all_images \n",
        "# * for each item in all_images\n",
        "#   - check to see if the item's type is equal to the animal type passed in\n",
        "#   - if so, add it to local array\n",
        "#   - otherwise, do nothing\n",
        "# * returns the local array as the result of the function\n",
        "\n",
        "#\n",
        "# your code here\n",
        "#\n",
        "\n",
        "\n",
        "# set cat_images to the result of calling your function with 'cat' passed in as argument\n",
        "\n",
        "#\n",
        "# your code here\n",
        "#\n",
        "\n",
        "# set dog_images to the result of calling your function with 'dog' passed in as argument\n",
        "\n",
        "#\n",
        "# your code here\n",
        "#\n",
        "\n",
        "print(\"all images:\")\n",
        "print_images(all_images)\n",
        "print(\"cat images\")\n",
        "print_images(cat_images)\n",
        "print(\"dog images\")\n",
        "print_images(dog_images)"
      ],
      "execution_count": null,
      "outputs": []
    },
    {
      "cell_type": "markdown",
      "metadata": {
        "id": "NH6ekYO3VRHb"
      },
      "source": [
        "## Run Girl Scouts Website - Version 2\n",
        "\n",
        "With our updates, now let's run the second version of our Girl Scouts Website.\n",
        "\n",
        "* run the next code block\n",
        "\n",
        "In the output, you will see output of \"Running on ...\"\n",
        "\n",
        "* click on the 2nd link that ends in \".ngrok.io\"\n",
        "\n",
        "In the new page:\n",
        "\n",
        "* if you see a warning, click on \"Details\" button, and click on \"visit this unsafe site\"  (Google flags websites that end with .ngrok.io; we have simple html and css, and we won't even run our website for long, so we are aok)\n",
        "* you might need to refresh the page to see all contents correctly\n",
        "\n",
        "Review your new website: \n",
        "\n",
        "* Do you see the complete list of animals?\n",
        "* Do you see the changes to the captions you made?\n",
        "* Do you see only cats or dogs based on your selection of animal type? \n",
        "\n",
        "Review the website code in the code block.\n",
        "\n",
        "Discussion point:\n",
        "\n",
        "* Where is the code that changes the list of images based on your selection of animal type?"
      ]
    },
    {
      "cell_type": "code",
      "metadata": {
        "id": "svo79yiAJLAo"
      },
      "source": [
        "from flask import Flask, render_template, request\n",
        "from flask_ngrok import run_with_ngrok\n",
        "app = Flask(__name__, \n",
        "            template_folder='/content/gdrive/MyDrive/girl-scouts-website/templates',\n",
        "            static_folder = '/content/gdrive/MyDrive/girl-scouts-website/static')\n",
        "run_with_ngrok(app)   \n",
        "\n",
        "@app.route('/', methods=['GET', 'POST'])\n",
        "def home():\n",
        "    print(request.form.get('animal-type'))\n",
        "    if ((request.form.get('animal-type') == None) or (request.form.get('animal-type') == 'all')):\n",
        "      images = all_images\n",
        "    elif (request.form.get('animal-type') == 'cat'):\n",
        "      images = cat_images\n",
        "    elif (request.form.get('animal-type') == 'dog'):\n",
        "      images = dog_images\n",
        "    return render_template('home.html', images=images)\n",
        "\n",
        "app.run()"
      ],
      "execution_count": null,
      "outputs": []
    }
  ]
}